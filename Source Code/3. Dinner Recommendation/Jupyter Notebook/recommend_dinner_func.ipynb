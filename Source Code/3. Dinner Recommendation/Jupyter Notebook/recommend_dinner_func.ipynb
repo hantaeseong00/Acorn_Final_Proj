{
 "cells": [
  {
   "cell_type": "code",
   "execution_count": 1,
   "id": "0af36914",
   "metadata": {},
   "outputs": [],
   "source": [
    "import os, shutil, zipfile\n",
    "import numpy as np\n",
    "import pandas as pd\n",
    "import matplotlib.pyplot as plt\n",
    "import seaborn as sns\n",
    "\n",
    "import matplotlib.font_manager as fm\n",
    "font_name = fm.FontProperties(fname=\"C:\\\\Windows\\\\Fonts\\\\malgun.ttf\").get_name()\n",
    "plt.rc(\"font\", family = font_name)\n",
    "\n",
    "import matplotlib as mlp\n",
    "mlp.rcParams[\"axes.unicode_minus\"] = False\n",
    "\n",
    "# import networkx as nx\n",
    "# from networkx.drawing.nx_pydot import graphviz_layout\n",
    "\n",
    "import random\n",
    "import re\n",
    "import json\n",
    "\n",
    "# from urllib.request import urlopen\n",
    "# from bs4 import BeautifulSoup"
   ]
  },
  {
   "cell_type": "markdown",
   "id": "07b42d2e",
   "metadata": {},
   "source": [
    "# 저녁추천(연관분석)"
   ]
  },
  {
   "cell_type": "code",
   "execution_count": 3,
   "id": "a9172456",
   "metadata": {},
   "outputs": [],
   "source": [
    "rules_d = pd.read_csv(\"content/rules_dinner2.csv\",encoding=\"utf-8\")\n",
    "\n",
    "##### 저녁 추천 함수 정의\n",
    "def recommend_dinner_conviction(input_dish, top_n=10):\n",
    "    \n",
    "    if input_dish not in list(rules_d['antecedents']):\n",
    "        print(f\"입력한 메뉴({input_dish})가 학습 데이터에 없습니다.\")\n",
    "\n",
    "#     print(f\"입력한 메뉴({input_dish})를 통해 추천된 저녁 메뉴는 다음과 같습니다.\")\n",
    "    recommended_dinner = rules_d[rules_d['antecedents'] == input_dish].sort_values('conviction', ascending=False)[:top_n]\n",
    "#     print(recommended_dinner['consequents'].tolist())\n",
    "\n",
    "    assosiation_menu = list(recommended_dinner['consequents'].tolist())\n",
    "\n",
    "    return assosiation_menu"
   ]
  },
  {
   "cell_type": "markdown",
   "id": "3fe271a4",
   "metadata": {},
   "source": [
    "# 저녁추천(군집화)"
   ]
  },
  {
   "cell_type": "code",
   "execution_count": 21,
   "id": "675b0ef0",
   "metadata": {},
   "outputs": [],
   "source": [
    "center_list1=pd.read_csv('content/centerlist.csv', encoding=\"utf-8\")\n",
    "center_list1=center_list1.rename(columns={'에너지(㎉)':'에너지(kcal)'})\n",
    "\n",
    "cluster_items=[['하이라이스','표고버섯볶음밥','콩나물국밥','카레라이스','치즈김밥','채소볶음밥',\n",
    "             '채소김밥','참치볶음밥','참치마요삼각김밥','참치김밥','짬뽕밥','짜장밥',\n",
    "             '육회비빔밥','유부초밥','오징어덮밥','오므라이스','영양돌솥밥','알밥',\n",
    "             '계란볶음밥','고추김밥','순대국밥','쇠고기주먹밥','쇠고기볶음밥','쇠고기김밥',\n",
    "              '생선모듬초밥', '새우볶음밥','비빔밥','불고기덮밥','볶음밥', '모듬회덮밥',\n",
    "              '돌솥비빔밥','돈까스김밥','닭고기덮밥','날치알김밥','낙지덮밥','김치볶음밥',\n",
    "              '김치김밥','김밥'],\n",
    "             ['호박고추장찌개','햄 김치찌개','해물매운탕','콩비지찌개','콩나물된장찌개','추어탕',\n",
    "              '청국장찌개','참치김치찌개','조개된장찌개','오징어찌개','오리백숙','어묵김치찌개',\n",
    "              '알탕','순두부찌개','순두부김치찌개','쇠고기전골','쇠고기된장찌개','쇠고기 샤브샤브',\n",
    "              '버섯전골','버섯샤브샤브','두부애호박된장찌개','두부쇠고기고추장찌개','두부된장찌개',\n",
    "              '두부고추장찌개','된장찌개','돼지고기찌개','돼지고기김치찌개','동태찌개','대구 매운탕',\n",
    "              '닭볶음탕','달래된장찌개','냉이된장찌개','낙지전골','꽃게탕','꽁치김치찌개','김치전골',\n",
    "              '갈치찌개'],\n",
    "             ['함박스테이크','닭발구이','닭고기대파꼬치구이','굴비구이','갈치구이','가자미구이',\n",
    "              '돼지고기산적','키조개구이','참치머리구이','조기구이','장어고추장구이','오리불고기',\n",
    "              '안심스테이크','쇠불고기','쇠곱창구이','새우구이','삼치구이','뱅어포구이',\n",
    "              '등심스테이크','돼지불고기'],\n",
    "             ['칼국수','짬뽕','짜장면','쟁반국수','수제비','비빔냉면','비빔국수','볶음우동',\n",
    "              '바지락칼국수','물냉면','라면','떡라면','달걀라면'],\n",
    "             ['팔보채','죽순쇠고기볶음','잡채','유산슬','오징어볶음','쇠고기채소볶음','문어고추장볶음',\n",
    "              '묵은지삼겹살볶음','라볶이','떡볶이','돼지곱창순대볶음','돼지고기김치볶음','닭발볶음',\n",
    "              '낙지볶음'],\n",
    "             ['뼈해장국','도가니탕','닭개장','꼬리곰탕','곰탕','새우탕','육개장','우거지곰탕','설렁탕',\n",
    "              '선짓국(선지해장국)'],\n",
    "             ['닭날개튀김','고등어튀김','간장양념치킨','간장양념닭다리튀김','후라이드치킨','치킨까스',\n",
    "              '양념치킨','안심돈가스','생선까스','등심돈가스']]\n",
    "\n",
    "col = [\"식품명\", \"에너지(kcal)\", \"탄수화물(g)\", \"단백질(g)\", \"지방(g)\", \"총당류(g)\", \"나트륨(g)\"]\n",
    "\n",
    "##### 저녁추천(군집화) 함수 정의\n",
    "def menu_cluster(remain_data, sangsu=20, columns=col) :\n",
    "     \n",
    "    # 잔여영양소와 클러스터(중심)간 차이  \n",
    "    remain_df=pd.DataFrame(remain_data, index=col[1:]).T\n",
    "    center_list2={'에너지(kcal)':[], '탄수화물(g)':[], '단백질(g)':[], '지방(g)':[],\n",
    "              '총당류(g)':[], '나트륨(g)':[]}\n",
    "    \n",
    "    center_list2 = pd.DataFrame(center_list2)\n",
    "    \n",
    "\n",
    "    for column in columns[1:]:\n",
    "        nutrition = []\n",
    "        for i in range(len(center_list1)):\n",
    "            nutrition.append(abs(center_list1[column][i] -  remain_df[column][0]))\n",
    "        center_list2[column] = nutrition\n",
    "\n",
    "    # 거리 계산\n",
    "    center_list2[\"총합\"] = center_list2.sum(axis=1)\n",
    "    center_list2[\"Cluster\"] = center_list1[\"Cluster\"]\n",
    "    \n",
    "    # 클러스터 내 메뉴 개수 \n",
    "    center_list2[\"메뉴개수\"] = 1\n",
    "    for i in range(len(cluster_items)):\n",
    "        center_list2.loc[i,\"메뉴개수\"] = len(cluster_items[i])\n",
    "\n",
    "    # 거리가 적은 순으로 정렬\n",
    "    center_list2.sort_values(\"총합\", inplace=True)\n",
    "    center_list2.reset_index(drop=True, inplace=True)\n",
    "\n",
    "    # 추천 메뉴 \n",
    "    recom_list = []\n",
    "    for cluster_num in range(0, len(center_list2)):\n",
    "        if center_list2[\"메뉴개수\"][cluster_num] == 1:\n",
    "            recom_list.append(center_list2[\"Cluster\"][cluster_num])\n",
    "        else:\n",
    "            recom_list.extend(cluster_items[int(center_list2[\"Cluster\"][cluster_num])-1])\n",
    "\n",
    "        if center_list2[\"메뉴개수\"][0:cluster_num+1].sum() > sangsu:\n",
    "            break\n",
    "    \n",
    "    return  recom_list"
   ]
  },
  {
   "cell_type": "markdown",
   "id": "ab626ee6",
   "metadata": {},
   "source": [
    "# 저녁추천(교집합+거리)"
   ]
  },
  {
   "cell_type": "code",
   "execution_count": 51,
   "id": "5e462e39",
   "metadata": {},
   "outputs": [],
   "source": [
    "##### 식품영양DB \n",
    "def nutrient_db(columns=col) :\n",
    "    nutrition_df = pd.read_excel(\"files/Nutri_food_DB.xlsx\", sheet_name='20230215')\n",
    "    nutrition_df=nutrition_df.rename(columns={'에너지(㎉)':'에너지(kcal)', '나트륨(㎎)':\"나트륨(g)\"})    \n",
    "    nutrition_df=nutrition_df[columns][nutrition_df['지역 / 제조사']=='전국(대표)']\n",
    "    \n",
    "    for i in nutrition_df.index:\n",
    "        nutrition_df['나트륨(g)'][i] = float(nutrition_df['나트륨(g)'][i])/1000\n",
    "    \n",
    "    return nutrition_df\n",
    "\n",
    "#### 군집분석과 연관분석의 교집합 추출\n",
    "def intersection_menu(list1, list2) :\n",
    "    inter_menu= list(set(list1) & set(list2))\n",
    "    return inter_menu\n",
    "\n",
    "##### 저녁메뉴 추천\n",
    "def dinner_recommedor(input_menu, remain_data, recom_num = 6, sansu=20, columns=col) : \n",
    "    \n",
    "    # 식품영양db \n",
    "    nutrition_df=nutrient_db()\n",
    "    \n",
    "    # 군집분석과 연관분석의 교집합\n",
    "    association = recommend_dinner_conviction(input_menu)\n",
    "    cluster = menu_cluster(remain_data)\n",
    "    \n",
    "    inter_menu = intersection_menu(association , cluster)\n",
    "\n",
    "    # 저녁메뉴 추천(6개) : 교집합 우선, 나머지는 거리가 짧은 순\n",
    "    recom_menu = []\n",
    "    diff_menu=[]\n",
    "\n",
    "    if len(inter_menu) >= recom_num :\n",
    "        recom_menu.extend(random.sample(inter_menu, recom_num))\n",
    "    else :\n",
    "        if len(inter_menu) == 0:\n",
    "            pass \n",
    "        else : \n",
    "            recom_menu.extend(inter_menu)\n",
    "            \n",
    "        diff_menu=list(set(association) ^ set(cluster))\n",
    "\n",
    "        diff_nutrient=[]\n",
    "        \n",
    "        remain_df=pd.DataFrame(remain_data, index=col[1:]).T\n",
    "        \n",
    "        for m in diff_menu : \n",
    "            term=nutrition_df[nutrition_df[\"식품명\"]== m]\n",
    "#             print(term)\n",
    "            nutrient=[m]\n",
    "            for column in columns[1:]:\n",
    "#                 print(term[column].values[0])\n",
    "#                 print('==============================')\n",
    "#                 print(remain_df[column].values[0])\n",
    "#                 print('==============================')\n",
    "                nutrient.append(abs(term[column].values[0] - remain_df[column].values[0]))\n",
    "            diff_nutrient.append(nutrient)\n",
    "#             print(diff_nutrient)\n",
    "\n",
    "        df_candidate=pd.DataFrame(diff_nutrient, columns=columns)\n",
    "        df_candidate[\"총합\"] = df_candidate.sum(axis=1)\n",
    "        df_candidate.sort_values(\"총합\", inplace=True)\n",
    "        df_candidate.reset_index(drop=True, inplace=True)\n",
    "\n",
    "        candi_num = (recom_num - len(inter_menu)) * 2\n",
    "        candi_top = df_candidate.loc[:(candi_num-1)]\n",
    "  \n",
    "        candi_menu = candi_top[\"식품명\"].values.tolist()\n",
    "\n",
    "        rnd_menu=random.sample(candi_menu, int(candi_num/2))\n",
    "\n",
    "        recom_menu.extend(rnd_menu)\n",
    "\n",
    "    return recom_menu"
   ]
  },
  {
   "cell_type": "markdown",
   "id": "b434b05a",
   "metadata": {},
   "source": [
    "# 시뮬레이션"
   ]
  },
  {
   "cell_type": "code",
   "execution_count": 52,
   "id": "09796019",
   "metadata": {
    "scrolled": true
   },
   "outputs": [
    {
     "name": "stderr",
     "output_type": "stream",
     "text": [
      "C:\\Users\\acorn\\AppData\\Local\\Temp\\ipykernel_17352\\2727908099.py:61: FutureWarning: Dropping of nuisance columns in DataFrame reductions (with 'numeric_only=None') is deprecated; in a future version this will raise TypeError.  Select only valid columns before calling the reduction.\n",
      "  df_candidate[\"총합\"] = df_candidate.sum(axis=1)\n"
     ]
    },
    {
     "data": {
      "text/plain": [
       "['삼계탕', '삼겹살고추장구이', '닭구이', '오리탕', '미트볼 토마토 스파게티', '돼지갈비구이']"
      ]
     },
     "execution_count": 52,
     "metadata": {},
     "output_type": "execute_result"
    }
   ],
   "source": [
    "##### data input\n",
    "sex = '여자'\n",
    "age = '12-14'\n",
    "lunch= '순대국밥'\n",
    "side= ['부추무침,김치전', '도토리묵무침', '메밀전병']\n",
    "\n",
    "remain=[1159.08, 14.920000000000002, 20.260000000000005, 39.81666666666668, 47.87, 0.5166200000000001]\n",
    "\n",
    "##### 저녁추천\n",
    "# recommend_dinner_conviction(lunch)\n",
    "# menu_cluster(remain)\n",
    "dinner_recommedor(lunch, remain)"
   ]
  },
  {
   "cell_type": "code",
   "execution_count": null,
   "id": "da8b64fc",
   "metadata": {
    "scrolled": true
   },
   "outputs": [],
   "source": []
  }
 ],
 "metadata": {
  "kernelspec": {
   "display_name": "Python 3 (ipykernel)",
   "language": "python",
   "name": "python3"
  },
  "language_info": {
   "codemirror_mode": {
    "name": "ipython",
    "version": 3
   },
   "file_extension": ".py",
   "mimetype": "text/x-python",
   "name": "python",
   "nbconvert_exporter": "python",
   "pygments_lexer": "ipython3",
   "version": "3.9.13"
  }
 },
 "nbformat": 4,
 "nbformat_minor": 5
}
